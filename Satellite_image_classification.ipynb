{
 "cells": [
  {
   "cell_type": "code",
   "execution_count": 3,
   "id": "303c0424",
   "metadata": {},
   "outputs": [],
   "source": [
    "import os"
   ]
  },
  {
   "cell_type": "code",
   "execution_count": 4,
   "id": "0fb30d44",
   "metadata": {},
   "outputs": [
    {
     "data": {
      "text/plain": [
       "1500"
      ]
     },
     "execution_count": 4,
     "metadata": {},
     "output_type": "execute_result"
    }
   ],
   "source": [
    "len(os.listdir('data/cloudy'))"
   ]
  },
  {
   "cell_type": "code",
   "execution_count": 5,
   "id": "7039b48f",
   "metadata": {},
   "outputs": [
    {
     "data": {
      "text/plain": [
       "1131"
      ]
     },
     "execution_count": 5,
     "metadata": {},
     "output_type": "execute_result"
    }
   ],
   "source": [
    "len(os.listdir('data/desert'))"
   ]
  },
  {
   "cell_type": "code",
   "execution_count": 6,
   "id": "174e99c6",
   "metadata": {},
   "outputs": [
    {
     "data": {
      "text/plain": [
       "1500"
      ]
     },
     "execution_count": 6,
     "metadata": {},
     "output_type": "execute_result"
    }
   ],
   "source": [
    "len(os.listdir('data/green_area'))"
   ]
  },
  {
   "cell_type": "code",
   "execution_count": 7,
   "id": "d10445f1",
   "metadata": {},
   "outputs": [
    {
     "data": {
      "text/plain": [
       "1500"
      ]
     },
     "execution_count": 7,
     "metadata": {},
     "output_type": "execute_result"
    }
   ],
   "source": [
    "len(os.listdir('data/water'))"
   ]
  },
  {
   "cell_type": "code",
   "execution_count": 40,
   "id": "7c2aef19",
   "metadata": {},
   "outputs": [],
   "source": [
    "import cv2\n",
    "import numpy as np"
   ]
  },
  {
   "cell_type": "code",
   "execution_count": 37,
   "id": "3d0a9749",
   "metadata": {},
   "outputs": [],
   "source": [
    "import matplotlib.pyplot as plt"
   ]
  },
  {
   "cell_type": "code",
   "execution_count": 43,
   "id": "447046ba",
   "metadata": {},
   "outputs": [],
   "source": [
    "urls = os.listdir('data/cloudy')"
   ]
  },
  {
   "cell_type": "code",
   "execution_count": 46,
   "id": "764eb157",
   "metadata": {},
   "outputs": [],
   "source": [
    "path = \"data/cloudy/\"+urls[0]"
   ]
  },
  {
   "cell_type": "code",
   "execution_count": 47,
   "id": "fab00d24",
   "metadata": {},
   "outputs": [
    {
     "data": {
      "text/plain": [
       "'data/cloudy/train_10021.jpg'"
      ]
     },
     "execution_count": 47,
     "metadata": {},
     "output_type": "execute_result"
    }
   ],
   "source": [
    "path"
   ]
  },
  {
   "cell_type": "code",
   "execution_count": 48,
   "id": "b1522ef0",
   "metadata": {},
   "outputs": [],
   "source": [
    "def loadImages(path,urls,target):\n",
    "    images=[]\n",
    "    labels=[]\n",
    "    for i in range(len(urls)):\n",
    "        img_path = path +\"/\"+urls[i]\n",
    "        img = cv2.imread(img_path)\n",
    "        img = img/255.0\n",
    "        img = cv2.resize(img,(100,100))\n",
    "        images.append(img)\n",
    "        labels.append(target)\n",
    "    return images,labels"
   ]
  },
  {
   "cell_type": "code",
   "execution_count": 49,
   "id": "9cd2070c",
   "metadata": {},
   "outputs": [],
   "source": [
    "cloudy_path = \"data/cloudy\"\n",
    "cloud_url = os.listdir(cloudy_path)\n",
    "cloud_img , cloud_target = loadImages(cloudy_path,cloud_url,0)"
   ]
  },
  {
   "cell_type": "code",
   "execution_count": 50,
   "id": "b2730cf5",
   "metadata": {},
   "outputs": [
    {
     "data": {
      "text/plain": [
       "(1500, 1500)"
      ]
     },
     "execution_count": 50,
     "metadata": {},
     "output_type": "execute_result"
    }
   ],
   "source": [
    "len(cloud_url),len(cloud_img)"
   ]
  },
  {
   "cell_type": "code",
   "execution_count": 53,
   "id": "46bc3e7f",
   "metadata": {},
   "outputs": [],
   "source": [
    "desert_path = \"data/desert\"\n",
    "desert_url = os.listdir(desert_path)\n",
    "desert_img , desert_target = loadImages(desert_path,desert_url,1)"
   ]
  },
  {
   "cell_type": "code",
   "execution_count": 54,
   "id": "971f3594",
   "metadata": {},
   "outputs": [
    {
     "data": {
      "text/plain": [
       "(1131, 1131)"
      ]
     },
     "execution_count": 54,
     "metadata": {},
     "output_type": "execute_result"
    }
   ],
   "source": [
    "len(desert_url),len(desert_img)"
   ]
  },
  {
   "cell_type": "code",
   "execution_count": 55,
   "id": "0a3a41ae",
   "metadata": {},
   "outputs": [],
   "source": [
    "green_area_path = \"data/green_area\"\n",
    "green_area_url = os.listdir(green_area_path)\n",
    "green_area_img , green_area_target = loadImages(green_area_path,green_area_url,2)"
   ]
  },
  {
   "cell_type": "code",
   "execution_count": 56,
   "id": "dafd36b2",
   "metadata": {},
   "outputs": [
    {
     "data": {
      "text/plain": [
       "(1500, 1500)"
      ]
     },
     "execution_count": 56,
     "metadata": {},
     "output_type": "execute_result"
    }
   ],
   "source": [
    "len(green_area_url),len(green_area_img)"
   ]
  },
  {
   "cell_type": "code",
   "execution_count": 57,
   "id": "240f96fe",
   "metadata": {},
   "outputs": [],
   "source": [
    "water_path = \"data/cloudy\"\n",
    "water_url = os.listdir(water_path)\n",
    "water_img , water_target = loadImages(water_path,water_url,3)"
   ]
  },
  {
   "cell_type": "code",
   "execution_count": 58,
   "id": "7e84af0e",
   "metadata": {},
   "outputs": [
    {
     "data": {
      "text/plain": [
       "(1500, 1500)"
      ]
     },
     "execution_count": 58,
     "metadata": {},
     "output_type": "execute_result"
    }
   ],
   "source": [
    "len(water_url),len(water_img)"
   ]
  },
  {
   "cell_type": "code",
   "execution_count": 59,
   "id": "3f846dda",
   "metadata": {},
   "outputs": [],
   "source": [
    "import numpy as np"
   ]
  },
  {
   "cell_type": "code",
   "execution_count": 60,
   "id": "381ec97d",
   "metadata": {},
   "outputs": [],
   "source": [
    "data = np.r_[cloud_img,desert_img,green_area_img,water_img]"
   ]
  },
  {
   "cell_type": "code",
   "execution_count": 61,
   "id": "016c1530",
   "metadata": {},
   "outputs": [
    {
     "data": {
      "text/plain": [
       "(5631, 100, 100, 3)"
      ]
     },
     "execution_count": 61,
     "metadata": {},
     "output_type": "execute_result"
    }
   ],
   "source": [
    "data.shape"
   ]
  },
  {
   "cell_type": "code",
   "execution_count": 62,
   "id": "65dc98c0",
   "metadata": {},
   "outputs": [],
   "source": [
    "targets = np.r_[cloud_target,desert_target,green_area_target,water_target]"
   ]
  },
  {
   "cell_type": "code",
   "execution_count": 63,
   "id": "96730b99",
   "metadata": {},
   "outputs": [
    {
     "data": {
      "text/plain": [
       "(5631,)"
      ]
     },
     "execution_count": 63,
     "metadata": {},
     "output_type": "execute_result"
    }
   ],
   "source": [
    "targets.shape"
   ]
  },
  {
   "cell_type": "code",
   "execution_count": 64,
   "id": "ad0ef0ea",
   "metadata": {},
   "outputs": [],
   "source": [
    "from sklearn.model_selection import train_test_split\n",
    "\n",
    "x_train ,x_test,y_train,y_test = train_test_split(data,targets,test_size=0.25)"
   ]
  },
  {
   "cell_type": "code",
   "execution_count": 65,
   "id": "10e189cb",
   "metadata": {},
   "outputs": [],
   "source": [
    "import tensorflow as tf"
   ]
  },
  {
   "cell_type": "code",
   "execution_count": 66,
   "id": "ff110791",
   "metadata": {},
   "outputs": [],
   "source": [
    "from tensorflow import keras"
   ]
  },
  {
   "cell_type": "code",
   "execution_count": 67,
   "id": "25ee9237",
   "metadata": {},
   "outputs": [],
   "source": [
    "from tensorflow.keras import layers,models\n",
    "from tensorflow.keras.models import Sequential\n",
    "from tensorflow.keras.layers import Conv2D, MaxPooling2D,Flatten,Dense"
   ]
  },
  {
   "cell_type": "code",
   "execution_count": 73,
   "id": "cb3da04f",
   "metadata": {},
   "outputs": [],
   "source": [
    "model = Sequential([\n",
    "    Conv2D(32,(3,3),input_shape=(100,100,3),activation='relu'),\n",
    "    MaxPooling2D(),\n",
    "    Conv2D(32,3,activation='relu'),\n",
    "    MaxPooling2D(),\n",
    "    Conv2D(16,3,activation='relu'),\n",
    "    MaxPooling2D(),\n",
    "    Flatten(),\n",
    "    Dense(512,activation='relu'),\n",
    "    Dense(256,activation='relu'),\n",
    "    Dense(4,activation='softmax')\n",
    "])"
   ]
  },
  {
   "cell_type": "code",
   "execution_count": 74,
   "id": "ec6160ba",
   "metadata": {},
   "outputs": [
    {
     "name": "stdout",
     "output_type": "stream",
     "text": [
      "Model: \"sequential_1\"\n",
      "_________________________________________________________________\n",
      " Layer (type)                Output Shape              Param #   \n",
      "=================================================================\n",
      " conv2d_3 (Conv2D)           (None, 98, 98, 32)        896       \n",
      "                                                                 \n",
      " max_pooling2d_3 (MaxPooling  (None, 49, 49, 32)       0         \n",
      " 2D)                                                             \n",
      "                                                                 \n",
      " conv2d_4 (Conv2D)           (None, 47, 47, 32)        9248      \n",
      "                                                                 \n",
      " max_pooling2d_4 (MaxPooling  (None, 23, 23, 32)       0         \n",
      " 2D)                                                             \n",
      "                                                                 \n",
      " conv2d_5 (Conv2D)           (None, 21, 21, 16)        4624      \n",
      "                                                                 \n",
      " max_pooling2d_5 (MaxPooling  (None, 10, 10, 16)       0         \n",
      " 2D)                                                             \n",
      "                                                                 \n",
      " flatten_1 (Flatten)         (None, 1600)              0         \n",
      "                                                                 \n",
      " dense_3 (Dense)             (None, 512)               819712    \n",
      "                                                                 \n",
      " dense_4 (Dense)             (None, 256)               131328    \n",
      "                                                                 \n",
      " dense_5 (Dense)             (None, 4)                 1028      \n",
      "                                                                 \n",
      "=================================================================\n",
      "Total params: 966,836\n",
      "Trainable params: 966,836\n",
      "Non-trainable params: 0\n",
      "_________________________________________________________________\n"
     ]
    }
   ],
   "source": [
    "model.summary()"
   ]
  },
  {
   "cell_type": "code",
   "execution_count": 81,
   "id": "0a989e44",
   "metadata": {},
   "outputs": [],
   "source": [
    "model.compile(optimizer='adam',loss= tf.keras.losses.SparseCategoricalCrossentropy(),metrics=['accuracy'])"
   ]
  },
  {
   "cell_type": "code",
   "execution_count": 82,
   "id": "76561941",
   "metadata": {},
   "outputs": [
    {
     "name": "stdout",
     "output_type": "stream",
     "text": [
      "Epoch 1/10\n",
      "132/132 [==============================] - 19s 143ms/step - loss: 0.5137 - accuracy: 0.6867 - val_loss: 0.4697 - val_accuracy: 0.7088\n",
      "Epoch 2/10\n",
      "132/132 [==============================] - 18s 136ms/step - loss: 0.5094 - accuracy: 0.6969 - val_loss: 0.4867 - val_accuracy: 0.7116\n",
      "Epoch 3/10\n",
      "132/132 [==============================] - 16s 124ms/step - loss: 0.5008 - accuracy: 0.6903 - val_loss: 0.4872 - val_accuracy: 0.7038\n",
      "Epoch 4/10\n",
      "132/132 [==============================] - 19s 140ms/step - loss: 0.4859 - accuracy: 0.6924 - val_loss: 0.4757 - val_accuracy: 0.7159\n",
      "Epoch 5/10\n",
      "132/132 [==============================] - 17s 127ms/step - loss: 0.5063 - accuracy: 0.6825 - val_loss: 0.4700 - val_accuracy: 0.7095\n",
      "Epoch 6/10\n",
      "132/132 [==============================] - 17s 129ms/step - loss: 0.4961 - accuracy: 0.6912 - val_loss: 0.4677 - val_accuracy: 0.7166\n",
      "Epoch 7/10\n",
      "132/132 [==============================] - 17s 130ms/step - loss: 0.4837 - accuracy: 0.6997 - val_loss: 0.4784 - val_accuracy: 0.7116\n",
      "Epoch 8/10\n",
      "132/132 [==============================] - 17s 127ms/step - loss: 0.5416 - accuracy: 0.6817 - val_loss: 0.4671 - val_accuracy: 0.7124\n",
      "Epoch 9/10\n",
      "132/132 [==============================] - 17s 126ms/step - loss: 0.4877 - accuracy: 0.6997 - val_loss: 0.4629 - val_accuracy: 0.7173\n",
      "Epoch 10/10\n",
      "132/132 [==============================] - 17s 132ms/step - loss: 0.4907 - accuracy: 0.7080 - val_loss: 0.4658 - val_accuracy: 0.7166\n"
     ]
    },
    {
     "data": {
      "text/plain": [
       "<keras.callbacks.History at 0x17854e5cf40>"
      ]
     },
     "execution_count": 82,
     "metadata": {},
     "output_type": "execute_result"
    }
   ],
   "source": [
    "model.fit(x_train,y_train,batch_size=32,epochs=10,validation_data=(x_test,y_test))"
   ]
  },
  {
   "cell_type": "code",
   "execution_count": 83,
   "id": "4fdb4e3e",
   "metadata": {},
   "outputs": [
    {
     "data": {
      "image/png": "[encoded data removed]",
      "text/plain": [
       "<Figure size 640x480 with 1 Axes>"
      ]
     },
     "metadata": {},
     "output_type": "display_data"
    }
   ],
   "source": [
    "plt.plot(model.history.history['accuracy'])\n",
    "plt.plot(model.history.history['val_accuracy'],label='test_accuracy')\n",
    "plt.legend()\n",
    "plt.show()"
   ]
  },
  {
   "cell_type": "code",
   "execution_count": 84,
   "id": "6ffb34c4",
   "metadata": {},
   "outputs": [
    {
     "data": {
      "image/png": "[encoded data removed]",
      "text/plain": [
       "<Figure size 640x480 with 1 Axes>"
      ]
     },
     "metadata": {},
     "output_type": "display_data"
    }
   ],
   "source": [
    "plt.plot(model.history.history['loss'])\n",
    "plt.plot(model.history.history['val_loss'],label='test_accuracy')\n",
    "plt.legend()\n",
    "plt.show()"
   ]
  },
  {
   "cell_type": "code",
   "execution_count": 124,
   "id": "c78d4a17",
   "metadata": {},
   "outputs": [
    {
     "name": "stdout",
     "output_type": "stream",
     "text": [
      "44/44 [==============================] - 2s 33ms/step\n"
     ]
    },
    {
     "data": {
      "text/plain": [
       "array([[3.6168739e-03, 4.7799307e-09, 9.9603337e-01, 3.4963773e-04],\n",
       "       [5.0176722e-01, 3.7734460e-03, 1.3077856e-04, 4.9432859e-01],\n",
       "       [4.5457169e-01, 9.4286047e-02, 1.0672716e-03, 4.5007497e-01],\n",
       "       [5.0101113e-01, 3.5257190e-03, 1.7632110e-04, 4.9528679e-01],\n",
       "       [1.0007449e-03, 8.3402979e-11, 9.9894136e-01, 5.7927977e-05],\n",
       "       [9.3116425e-02, 8.1699467e-01, 2.2045527e-11, 8.9888871e-02],\n",
       "       [5.0510025e-01, 7.2053424e-03, 3.4592387e-05, 4.8765981e-01],\n",
       "       [5.0219882e-01, 4.6908502e-03, 1.0151923e-04, 4.9300885e-01],\n",
       "       [5.0086635e-01, 2.6680408e-03, 3.9506689e-04, 4.9607044e-01],\n",
       "       [2.3586868e-01, 5.2796644e-01, 8.8048455e-06, 2.3615608e-01]],\n",
       "      dtype=float32)"
      ]
     },
     "execution_count": 124,
     "metadata": {},
     "output_type": "execute_result"
    }
   ],
   "source": [
    "yp = model.predict(x_test)\n",
    "yp[:10]"
   ]
  },
  {
   "cell_type": "code",
   "execution_count": 107,
   "id": "28b7a43b",
   "metadata": {},
   "outputs": [
    {
     "data": {
      "text/plain": [
       "array([2, 0, 0, ..., 0, 0, 1])"
      ]
     },
     "execution_count": 107,
     "metadata": {},
     "output_type": "execute_result"
    }
   ],
   "source": [
    "y_test"
   ]
  },
  {
   "cell_type": "code",
   "execution_count": 108,
   "id": "36b6ddf0",
   "metadata": {},
   "outputs": [],
   "source": [
    "from tensorflow.keras.utils import plot_model"
   ]
  },
  {
   "cell_type": "code",
   "execution_count": 109,
   "id": "9f830c95",
   "metadata": {},
   "outputs": [
    {
     "name": "stdout",
     "output_type": "stream",
     "text": [
      "You must install pydot (`pip install pydot`) and install graphviz (see instructions at https://graphviz.gitlab.io/download/) for plot_model to work.\n"
     ]
    }
   ],
   "source": [
    "plot_model(model, to_file='model_plot.png', show_shapes=True, show_layer_names=True)"
   ]
  },
  {
   "cell_type": "code",
   "execution_count": 110,
   "id": "b08f122e",
   "metadata": {},
   "outputs": [
    {
     "name": "stdout",
     "output_type": "stream",
     "text": [
      "44/44 [==============================] - 1s 25ms/step - loss: 0.4658 - accuracy: 0.7166\n"
     ]
    },
    {
     "data": {
      "text/plain": [
       "[0.46576347947120667, 0.7166193127632141]"
      ]
     },
     "execution_count": 110,
     "metadata": {},
     "output_type": "execute_result"
    }
   ],
   "source": [
    "model.evaluate(x_test,y_test)"
   ]
  },
  {
   "cell_type": "code",
   "execution_count": 115,
   "id": "8d1e5042",
   "metadata": {},
   "outputs": [
    {
     "data": {
      "text/plain": [
       "array([2, 0, 0, 0, 2, 1, 3, 0, 3, 3])"
      ]
     },
     "execution_count": 115,
     "metadata": {},
     "output_type": "execute_result"
    }
   ],
   "source": [
    "y_test[:10]"
   ]
  },
  {
   "cell_type": "code",
   "execution_count": 117,
   "id": "e500880a",
   "metadata": {},
   "outputs": [
    {
     "ename": "ValueError",
     "evalue": "The truth value of an array with more than one element is ambiguous. Use a.any() or a.all()",
     "output_type": "error",
     "traceback": [
      "\u001b[1;31m---------------------------------------------------------------------------\u001b[0m",
      "\u001b[1;31mValueError\u001b[0m                                Traceback (most recent call last)",
      "Cell \u001b[1;32mIn[117], line 3\u001b[0m\n\u001b[0;32m      1\u001b[0m y_pred \u001b[38;5;241m=\u001b[39m[]\n\u001b[0;32m      2\u001b[0m \u001b[38;5;28;01mfor\u001b[39;00m element \u001b[38;5;129;01min\u001b[39;00m yp:\n\u001b[1;32m----> 3\u001b[0m     \u001b[38;5;28;01mif\u001b[39;00m \u001b[43melement\u001b[49m\u001b[43m \u001b[49m\u001b[38;5;241;43m>\u001b[39;49m\u001b[43m \u001b[49m\u001b[38;5;241;43m0\u001b[39;49m:\n\u001b[0;32m      4\u001b[0m         y_pred\u001b[38;5;241m.\u001b[39mappend(\u001b[38;5;241m0\u001b[39m)\n\u001b[0;32m      5\u001b[0m     \u001b[38;5;28;01melif\u001b[39;00m element\u001b[38;5;241m>\u001b[39m\u001b[38;5;241m1\u001b[39m:\n",
      "\u001b[1;31mValueError\u001b[0m: The truth value of an array with more than one element is ambiguous. Use a.any() or a.all()"
     ]
    }
   ],
   "source": [
    "y_pred =[]\n",
    "for element in yp:\n",
    "    if element >= 0.0:\n",
    "        y_pred.append(0)\n",
    "    elif element>0.5:\n",
    "        y_pred.append(1)\n",
    "    elif element>1.5:\n",
    "        y_pred.append(2)\n",
    "    else :\n",
    "        y_pred.append(3)"
   ]
  },
  {
   "cell_type": "code",
   "execution_count": null,
   "id": "54606f72",
   "metadata": {},
   "outputs": [],
   "source": []
  }
 ],
 "metadata": {
  "kernelspec": {
   "display_name": "Python 3 (ipykernel)",
   "language": "python",
   "name": "python3"
  },
  "language_info": {
   "codemirror_mode": {
    "name": "ipython",
    "version": 3
   },
   "file_extension": ".py",
   "mimetype": "text/x-python",
   "name": "python",
   "nbconvert_exporter": "python",
   "pygments_lexer": "ipython3",
   "version": "3.10.9"
  }
 },
 "nbformat": 4,
 "nbformat_minor": 5
}
